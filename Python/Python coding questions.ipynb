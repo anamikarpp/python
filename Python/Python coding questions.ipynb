{
 "cells": [
  {
   "cell_type": "markdown",
   "id": "1696a653-0503-4034-a154-bfa42db05780",
   "metadata": {},
   "source": [
    "### 1) Generate an Infinite Fibonnaci Series Using Generator\n"
   ]
  },
  {
   "cell_type": "code",
   "execution_count": 2,
   "id": "af97deb4-7cbe-4326-8ec0-e85eba0bcbcb",
   "metadata": {},
   "outputs": [
    {
     "name": "stdout",
     "output_type": "stream",
     "text": [
      "0 1 1 2 3 5 8 13 21 34 "
     ]
    }
   ],
   "source": [
    "def infinite_fibonacci():\n",
    "    a,b=0,1\n",
    "    while True:\n",
    "        yield a\n",
    "        a,b=b,a+b\n",
    "\n",
    "fib_gen=infinite_fibonacci()\n",
    "for _ in range(10):\n",
    "    print(next(fib_gen),end=\" \")"
   ]
  },
  {
   "cell_type": "markdown",
   "id": "3f16f9f6-81d7-419e-bfa6-b89a2af9ba57",
   "metadata": {},
   "source": [
    "### 2)Sort a list without using the sort keyword"
   ]
  },
  {
   "cell_type": "code",
   "execution_count": 3,
   "id": "71bac546-642f-4d31-8bea-c76ce298b6bc",
   "metadata": {},
   "outputs": [
    {
     "name": "stdout",
     "output_type": "stream",
     "text": [
      "Sorted list [11, 12, 22, 25, 34, 64, 90]\n"
     ]
    }
   ],
   "source": [
    "def bubble_sort(lst):\n",
    "    n=len(lst)\n",
    "    for i in range(n):\n",
    "        for j in range(0,n-i-1):\n",
    "            if lst[j]>lst[j+1]:\n",
    "                lst[j],lst[j+1]=lst[j+1],lst[j]\n",
    "    return lst\n",
    "\n",
    "lst=[64,34,25,12,22,11,90]\n",
    "print(\"Sorted list\",bubble_sort(lst))"
   ]
  },
  {
   "cell_type": "markdown",
   "id": "7430f66f-7016-4b5a-be0a-1b9d87563dd3",
   "metadata": {},
   "source": [
    "### 3)Sort a List using the sort keyword"
   ]
  },
  {
   "cell_type": "code",
   "execution_count": 5,
   "id": "4d711887-1c55-4f3c-b45b-3eeed27b826e",
   "metadata": {},
   "outputs": [
    {
     "name": "stdout",
     "output_type": "stream",
     "text": [
      "[11, 12, 22, 25, 34, 64, 90]\n"
     ]
    }
   ],
   "source": [
    "lst=[64,34,25,12,22,11,90]\n",
    "lst.sort()\n",
    "print(lst)"
   ]
  },
  {
   "cell_type": "markdown",
   "id": "aa2af63d-29db-4e80-9dda-a2c25c5072ad",
   "metadata": {},
   "source": [
    "### 4)Check whether a string is a palindrom or Not"
   ]
  },
  {
   "cell_type": "code",
   "execution_count": 7,
   "id": "586d8c79-2cb8-429b-8476-78dedc170217",
   "metadata": {},
   "outputs": [
    {
     "name": "stdout",
     "output_type": "stream",
     "text": [
      "input string madam is palindrome\n"
     ]
    }
   ],
   "source": [
    "def is_palindrome(str):\n",
    "    return str==str[::-1]\n",
    "\n",
    "input_string=\"madam\"\n",
    "if is_palindrome(input_string):\n",
    "    print(f\"input string {input_string} is palindrome\")\n",
    "else:\n",
    "    print(f\"input string {input_string} is not palindrome\")"
   ]
  },
  {
   "cell_type": "markdown",
   "id": "41dc6188-e6f0-4b8d-a3b8-231d0cdea53d",
   "metadata": {},
   "source": [
    "### 5)Sort a dictionary"
   ]
  },
  {
   "cell_type": "code",
   "execution_count": 8,
   "id": "c956d508-06bb-4914-a003-1177b89051ab",
   "metadata": {},
   "outputs": [
    {
     "name": "stdout",
     "output_type": "stream",
     "text": [
      "Sorted dictionary by key: {'a': 1, 'b': 2, 'c': 3}\n"
     ]
    }
   ],
   "source": [
    "my_dict={'b':2,'a':1,'c':3}\n",
    "sorted_dict={k:my_dict[k] for k in sorted(my_dict)}\n",
    "print(\"Sorted dictionary by key:\",sorted_dict)"
   ]
  },
  {
   "cell_type": "code",
   "execution_count": 9,
   "id": "67a102c7-0bb7-4884-930e-dacc8a326c56",
   "metadata": {},
   "outputs": [
    {
     "name": "stdout",
     "output_type": "stream",
     "text": [
      "['a', 'b', 'c']\n"
     ]
    }
   ],
   "source": [
    "sorted_dict=sorted(my_dict)\n",
    "print(sorted_dict)"
   ]
  },
  {
   "cell_type": "markdown",
   "id": "b4348b40-0d83-492f-86df-b86ea3990677",
   "metadata": {},
   "source": [
    "### 6)Find the Pair of Sum with a Given Number in the List."
   ]
  },
  {
   "cell_type": "code",
   "execution_count": 11,
   "id": "3e0f0e72-5ed9-4760-b532-ce0dd0d6c1e6",
   "metadata": {},
   "outputs": [
    {
     "name": "stdout",
     "output_type": "stream",
     "text": [
      "Pairs with sum 5 : [(1, 4), (2, 3)]\n"
     ]
    }
   ],
   "source": [
    "def find_pairs(lst,target_sum):\n",
    "    pairs=[]\n",
    "    for i in range(len(lst)):\n",
    "        for j in range(i+1,len(lst)):\n",
    "            if lst[i]+lst[j]==target_sum:\n",
    "                pairs.append((lst[i],lst[j]))\n",
    "    return pairs\n",
    "\n",
    "lst=[1,2,3,4,5]\n",
    "target_sum=5\n",
    "print(\"Pairs with sum\",target_sum,\":\",find_pairs(lst,target_sum))"
   ]
  },
  {
   "cell_type": "markdown",
   "id": "5a05541a-02f6-4728-aa28-5169f58ed214",
   "metadata": {},
   "source": [
    "### 7)Find the output:\"blue is sky the\",Input:\"the sky is blue\""
   ]
  },
  {
   "cell_type": "code",
   "execution_count": 13,
   "id": "d622cce3-4cb2-4b79-b5d4-6938be0818a7",
   "metadata": {},
   "outputs": [
    {
     "name": "stdout",
     "output_type": "stream",
     "text": [
      "Reversed sentence: blue is sky the\n"
     ]
    }
   ],
   "source": [
    "def reverse_sentence(input_string):\n",
    "    return ' '.join(input_string.split()[::-1])\n",
    "input_sentence=\"the sky is blue\"\n",
    "print(\"Reversed sentence:\",reverse_sentence(input_sentence))"
   ]
  },
  {
   "cell_type": "markdown",
   "id": "5fb0c38c-750c-425e-9cdd-e82237a67d1b",
   "metadata": {},
   "source": [
    "### 8)Find the Maximum Repeated Character in a string"
   ]
  },
  {
   "cell_type": "code",
   "execution_count": 40,
   "id": "d582abba-ae4a-4597-a4bf-0fc36a4bbc51",
   "metadata": {},
   "outputs": [
    {
     "name": "stdout",
     "output_type": "stream",
     "text": [
      "Most repeated character: a\n"
     ]
    }
   ],
   "source": [
    "from collections import Counter\n",
    "\n",
    "def max_repeated_char(input_string):\n",
    "    char_count=Counter(input_string)\n",
    "    return max(char_count,key=char_count.get)\n",
    "\n",
    "input_string=\"anamika\"\n",
    "print(\"Most repeated character:\",max_repeated_char(input_string))"
   ]
  },
  {
   "cell_type": "markdown",
   "id": "498f51ea-c9df-4df7-b50f-33082b6ddbc2",
   "metadata": {},
   "source": [
    "### 9)Prime Number: Divisible by 1 and itself"
   ]
  },
  {
   "cell_type": "code",
   "execution_count": 22,
   "id": "1f8239d5-893f-4f3b-92e7-b65d53f7643f",
   "metadata": {},
   "outputs": [
    {
     "name": "stdout",
     "output_type": "stream",
     "text": [
      "17 is prime number\n"
     ]
    }
   ],
   "source": [
    "def is_prime(n):\n",
    "    if n<=1:\n",
    "        return False\n",
    "    for i in range(2,int(n**0.5)+1):\n",
    "        if n%i==0:\n",
    "            return False\n",
    "    return True\n",
    "\n",
    "num=17\n",
    "if is_prime(num):\n",
    "    print(f\"{num} is prime number\")\n",
    "else:\n",
    "    print(f\"{num} is not prime number\")"
   ]
  },
  {
   "cell_type": "markdown",
   "id": "82bb1497-f7e1-4af6-b994-831cabf8ff1e",
   "metadata": {},
   "source": [
    "### 10)Python Program to find the factorial of a number"
   ]
  },
  {
   "cell_type": "code",
   "execution_count": 24,
   "id": "c40b6b48-794b-4731-819f-c6fabe5d9fc7",
   "metadata": {},
   "outputs": [
    {
     "name": "stdout",
     "output_type": "stream",
     "text": [
      "Factorial of 5 is 120\n"
     ]
    }
   ],
   "source": [
    "def factorial(num):\n",
    "    fact=1\n",
    "    for i in range (1,num+1):\n",
    "        fact=fact*i\n",
    "    return fact\n",
    "\n",
    "\n",
    "num=5\n",
    "print(f\"Factorial of {num} is {factorial(num)}\")"
   ]
  },
  {
   "cell_type": "markdown",
   "id": "b046900e-8231-4cc0-9f98-f49829ed60c3",
   "metadata": {},
   "source": [
    "### 11)Check if a Number is an Armstrong Number"
   ]
  },
  {
   "cell_type": "code",
   "execution_count": 27,
   "id": "4d60503c-6e7d-42ec-82e2-73ce39d55acb",
   "metadata": {},
   "outputs": [
    {
     "name": "stdout",
     "output_type": "stream",
     "text": [
      "153 is an Armstrong number.\n"
     ]
    }
   ],
   "source": [
    "def is_armstrong(num):\n",
    "    num_str=str(num)\n",
    "    num_digits=len(num_str)\n",
    "    return num== sum(int(digit)**num_digits for digit in num_str)\n",
    "\n",
    "num=153\n",
    "if is_armstrong(num):\n",
    "    print(f\"{num} is an Armstrong number.\")\n",
    "else:\n",
    "    print(f\"{num} is not an Armstrong number.\")"
   ]
  },
  {
   "cell_type": "markdown",
   "id": "831171c4-5afd-4df7-bc06-c88b3df05512",
   "metadata": {},
   "source": [
    "### 12)ASCII Value: American Standard Code for Information Interchange."
   ]
  },
  {
   "cell_type": "code",
   "execution_count": 29,
   "id": "d50e4a41-a645-4105-8a7c-8acf40cb1a78",
   "metadata": {},
   "outputs": [
    {
     "name": "stdout",
     "output_type": "stream",
     "text": [
      "ASCII value of 'A' is 65\n"
     ]
    }
   ],
   "source": [
    "char='A'\n",
    "print(f\"ASCII value of '{char}' is {ord(char)}\")"
   ]
  },
  {
   "cell_type": "markdown",
   "id": "29f12b9c-038f-45f6-8bcf-1a662db50acd",
   "metadata": {},
   "source": [
    "### 13)Sum of square of First n natural numbers"
   ]
  },
  {
   "cell_type": "code",
   "execution_count": 30,
   "id": "f322ad3c-aad0-4ab3-86be-05d8d600f9e4",
   "metadata": {},
   "outputs": [
    {
     "name": "stdout",
     "output_type": "stream",
     "text": [
      "Sum of squares of first5 natural number is 55\n"
     ]
    }
   ],
   "source": [
    "def sum_of_squares(n):\n",
    "    return n*(n+1)*(2*n+1)//6\n",
    "n=5\n",
    "print(f\"Sum of squares of first{n} natural number is {sum_of_squares(n)}\")"
   ]
  },
  {
   "cell_type": "markdown",
   "id": "6a19819b-461f-449e-adc6-ac240737a0b6",
   "metadata": {},
   "source": [
    "### 14)Common Letters in Two Strings"
   ]
  },
  {
   "cell_type": "code",
   "execution_count": 34,
   "id": "bc9b67ec-f201-4f5b-b07f-8063de2a3777",
   "metadata": {},
   "outputs": [
    {
     "name": "stdout",
     "output_type": "stream",
     "text": [
      "Common letters: ['n', 'i']\n"
     ]
    }
   ],
   "source": [
    "def common_letters(str1,str2):\n",
    "    s1=set(str1)\n",
    "    s2=set(str2)\n",
    "    return list(s1&s2)\n",
    "\n",
    "str1=\"reeni\"\n",
    "str2=\"naina\"\n",
    "print(\"Common letters:\",common_letters(str1,str2))"
   ]
  },
  {
   "cell_type": "markdown",
   "id": "9e002d16-dff3-4bb9-9af6-c3ee9842d97c",
   "metadata": {},
   "source": [
    "### 15)Frequency of Words in Sentence"
   ]
  },
  {
   "cell_type": "code",
   "execution_count": 36,
   "id": "56e5623e-86bb-41ea-b67d-c48fc6eef3ab",
   "metadata": {},
   "outputs": [
    {
     "name": "stdout",
     "output_type": "stream",
     "text": [
      "word frequency: {'the': 2, 'quick': 1, 'brown': 1, 'fox': 1, 'jumps': 1, 'over': 1, 'lazy': 1, 'dog': 1}\n"
     ]
    }
   ],
   "source": [
    "def word_frequency(sentence):\n",
    "    words=sentence.split()\n",
    "    frequency={}\n",
    "    for word in words:\n",
    "        frequency[word]=frequency.get(word,0)+1\n",
    "    return frequency\n",
    "sentence=\"the quick brown fox jumps over the lazy dog\"\n",
    "print(\"word frequency:\",word_frequency(sentence))"
   ]
  },
  {
   "cell_type": "markdown",
   "id": "8c9d9992-5c08-449c-8c50-61eb014d331f",
   "metadata": {},
   "source": [
    "### 16)Convert Two Lists to Dictionary"
   ]
  },
  {
   "cell_type": "code",
   "execution_count": 37,
   "id": "af156d4d-b13b-4135-86a9-daf14d71ff51",
   "metadata": {},
   "outputs": [
    {
     "name": "stdout",
     "output_type": "stream",
     "text": [
      "Dictionary: {'one': 1, 'two': 2, 'three': 3}\n"
     ]
    }
   ],
   "source": [
    "def array_to_dict(key,values):\n",
    "    return dict(zip(key,values))\n",
    "\n",
    "keys=[\"one\",\"two\",\"three\"]\n",
    "values=[1,2,3]\n",
    "print(\"Dictionary:\",array_to_dict(keys,values))"
   ]
  },
  {
   "cell_type": "markdown",
   "id": "b325be68-7add-4426-a1e3-c4609263fcae",
   "metadata": {},
   "source": [
    "### 17)Reverse a String"
   ]
  },
  {
   "cell_type": "code",
   "execution_count": 38,
   "id": "5c624cf2-8ee5-475d-9e1a-d213d2521bf0",
   "metadata": {},
   "outputs": [
    {
     "name": "stdout",
     "output_type": "stream",
     "text": [
      "Reversed string: !dlroW ,olleH\n"
     ]
    }
   ],
   "source": [
    "def reverse_string(input_string):\n",
    "    return input_string[::-1]\n",
    "input_string=\"Hello, World!\"\n",
    "print(\"Reversed string:\",reverse_string(input_string))"
   ]
  },
  {
   "cell_type": "markdown",
   "id": "992ed3e9-aaea-4fa6-98fb-71db232d63cb",
   "metadata": {},
   "source": [
    "### 18)Remove Duplicates from a List"
   ]
  },
  {
   "cell_type": "code",
   "execution_count": 41,
   "id": "6bf13d8d-e26e-446d-8d9c-ddea29ea13f6",
   "metadata": {},
   "outputs": [
    {
     "name": "stdout",
     "output_type": "stream",
     "text": [
      "List without duplicates: [1, 2, 3, 6, 7, 9]\n"
     ]
    }
   ],
   "source": [
    "def remove_duplicates(lst):\n",
    "    return list(set(lst))\n",
    "lst=[3,6,7,9,2,3,7,1]\n",
    "print(\"List without duplicates:\",remove_duplicates(lst))"
   ]
  },
  {
   "cell_type": "markdown",
   "id": "555c9bbd-59c3-47f9-9300-01887930e1e7",
   "metadata": {},
   "source": [
    "### 19)Find the Smallest and Largest Number in an Array"
   ]
  },
  {
   "cell_type": "code",
   "execution_count": 42,
   "id": "5d59a546-b0da-438c-a6d0-eb2b50263c8a",
   "metadata": {},
   "outputs": [
    {
     "name": "stdout",
     "output_type": "stream",
     "text": [
      "smallest and largest numbers: (2, 90)\n"
     ]
    }
   ],
   "source": [
    "def find_min_max(arr):\n",
    "    mini=float('inf')\n",
    "    maxi=float('-inf')\n",
    "    for num in arr:\n",
    "        if num<mini:\n",
    "            mini=num\n",
    "        if num>maxi:\n",
    "            maxi=num\n",
    "    return (mini,maxi)\n",
    "\n",
    "arr=[12,45,10,11,33,44,90,2]\n",
    "print(\"smallest and largest numbers:\",find_min_max(arr))"
   ]
  },
  {
   "cell_type": "markdown",
   "id": "3cbaddb9-98bc-4d69-ad82-ae1c2c2a0ee0",
   "metadata": {},
   "source": [
    "### 20)Merge String Alternately\n"
   ]
  },
  {
   "cell_type": "code",
   "execution_count": 44,
   "id": "6b41b523-7a99-4574-b402-c2d5ee41589c",
   "metadata": {},
   "outputs": [
    {
     "name": "stdout",
     "output_type": "stream",
     "text": [
      "Merged string: apbqcr\n"
     ]
    }
   ],
   "source": [
    "def merge_alternately(word1,word2):\n",
    "    result=[]\n",
    "    i,j=0,0\n",
    "    while i<len(word1) or j<len(word2):\n",
    "        if i<len(word1):\n",
    "            result.append(word1[i])\n",
    "            i+=1\n",
    "        if j<len(word2):\n",
    "            result.append(word2[j])\n",
    "            j+=1\n",
    "    return ''.join(result)\n",
    "\n",
    "word1=\"abc\"\n",
    "word2=\"pqr\"\n",
    "print(\"Merged string:\",merge_alternately(word1,word2))"
   ]
  },
  {
   "cell_type": "markdown",
   "id": "5b3425e8-1a55-48e7-858f-c356bac7c0b5",
   "metadata": {},
   "source": [
    "### 21) GCD of Strings"
   ]
  },
  {
   "cell_type": "code",
   "execution_count": 48,
   "id": "3dedef34-edb6-4e9c-820f-8a2c55274a56",
   "metadata": {},
   "outputs": [
    {
     "name": "stdout",
     "output_type": "stream",
     "text": [
      "GCD of strings: ABC\n"
     ]
    }
   ],
   "source": [
    "def gcd_of_strings(str1,str2):\n",
    "    if str1+str2 !=str2+str1:\n",
    "        return \"\"\n",
    "    if len(str1)==len(str2):\n",
    "        return str1\n",
    "    if len(str1)>len(str2):\n",
    "        return gcd_of_strings(str1[len(str2):],str2)\n",
    "    return gcd_of_strings(str1,str2[len(str1):])\n",
    "str1=\"ABCABC\"\n",
    "str2=\"ABC\"\n",
    "print(\"GCD of strings:\",gcd_of_strings(str1,str2))"
   ]
  },
  {
   "cell_type": "markdown",
   "id": "fe41f501-256d-43bf-a5a8-71eedb42f8e8",
   "metadata": {},
   "source": [
    "### 22) Kids with the Greatest Number of Candies"
   ]
  },
  {
   "cell_type": "code",
   "execution_count": 50,
   "id": "0c5e17a1-f811-43a6-8590-86e6236eb1a6",
   "metadata": {},
   "outputs": [
    {
     "name": "stdout",
     "output_type": "stream",
     "text": [
      "Kids with max candies: [True, True, True, False, True]\n"
     ]
    }
   ],
   "source": [
    "def kids_with_candies(candies,extra_candies):\n",
    "    max_candies=max(candies)\n",
    "    return [candy + extra_candies >= max_candies for candy in candies]\n",
    "\n",
    "\n",
    "candies=[2,3,5,1,3]\n",
    "extra_candies=3\n",
    "print(\"Kids with max candies:\",kids_with_candies(candies,extra_candies))"
   ]
  },
  {
   "cell_type": "markdown",
   "id": "7910a4c7-8302-4b70-a1c3-ae6aac102d21",
   "metadata": {},
   "source": [
    "### 23) Can place Flowers"
   ]
  },
  {
   "cell_type": "code",
   "execution_count": 52,
   "id": "6c373be1-0705-4493-b211-d671a673d808",
   "metadata": {},
   "outputs": [
    {
     "name": "stdout",
     "output_type": "stream",
     "text": [
      "Can place flowers: True\n"
     ]
    }
   ],
   "source": [
    "def can_place_flowers(flowerbed,n):\n",
    "    flowerbed=[0]+flowerbed+[0]\n",
    "    for i in range(1,len(flowerbed)-1):\n",
    "        if flowerbed[i-1]==0 and flowerbed[i]==0 and flowerbed[i+1]==0:\n",
    "            flowerbed[i]=1\n",
    "        n-=1\n",
    "    return n<=0\n",
    "\n",
    "\n",
    "flowerbed=[1,0,0,0,1]\n",
    "n=1\n",
    "print(\"Can place flowers:\",can_place_flowers(flowerbed,n))"
   ]
  },
  {
   "cell_type": "markdown",
   "id": "df54898d-398a-4acf-a8ff-4e9eab836d54",
   "metadata": {},
   "source": [
    "### 24) Reverse Vowels in a String"
   ]
  },
  {
   "cell_type": "code",
   "execution_count": 54,
   "id": "f59f6d62-793e-47df-8002-209b7bfaf754",
   "metadata": {},
   "outputs": [
    {
     "name": "stdout",
     "output_type": "stream",
     "text": [
      "Reversed vowels: aceCreIm\n"
     ]
    }
   ],
   "source": [
    "def reverse_vowels(s):\n",
    "    vowels=set('aieouAIEOU')\n",
    "    s=list(s)\n",
    "    left,right=0,len(s)-1\n",
    "    while left<right:\n",
    "        if s[left] in vowels and s[right] in vowels:\n",
    "            s[left],s[right]=s[right],s[left]\n",
    "            left+=1\n",
    "            right-=1\n",
    "        elif s[left] not in vowels:\n",
    "            left+=1\n",
    "        else:\n",
    "            right-=1\n",
    "    return ''.join(s)\n",
    "s=\"IceCream\"\n",
    "print(\"Reversed vowels:\",reverse_vowels(s))"
   ]
  },
  {
   "cell_type": "markdown",
   "id": "da66b920-6a81-456e-a2fc-3a42e6ce1631",
   "metadata": {},
   "source": [
    "### 25)Move Zeroes to the End"
   ]
  },
  {
   "cell_type": "code",
   "execution_count": 57,
   "id": "5fa23545-2bdc-4d17-81b6-3addba2c76ac",
   "metadata": {},
   "outputs": [
    {
     "name": "stdout",
     "output_type": "stream",
     "text": [
      "Moved zeroes: [1, 3, 12, 0, 0]\n"
     ]
    }
   ],
   "source": [
    "def move_zeroes(nums):\n",
    "    left=0\n",
    "    for num in nums:\n",
    "        if num!=0:\n",
    "            nums[left]=num\n",
    "            left+=1\n",
    "    for i in range (left,len(nums)):\n",
    "        nums[i]=0\n",
    "        i+=1\n",
    "    return nums\n",
    "\n",
    "nums=[0,1,0,3,12]\n",
    "print(\"Moved zeroes:\",move_zeroes(nums))"
   ]
  },
  {
   "cell_type": "markdown",
   "id": "a3977b43-17b3-46bb-a5ac-46e3197f33c1",
   "metadata": {},
   "source": [
    "### 26)Check if a String is a Subsequence of Another String"
   ]
  },
  {
   "cell_type": "code",
   "execution_count": 59,
   "id": "92b22b5f-2b8a-4a44-87c0-ab11f669705d",
   "metadata": {},
   "outputs": [
    {
     "name": "stdout",
     "output_type": "stream",
     "text": [
      "Is subsequence: True\n"
     ]
    }
   ],
   "source": [
    "def is_subsequence(s,t):\n",
    "    i,j=0,0\n",
    "    while i<len(s) and j<len(t):\n",
    "        if s[i] == t[j]:\n",
    "            i+=1\n",
    "        j+=1\n",
    "    return i==len(s)\n",
    "s=\"abc\"\n",
    "t=\"ahbgdc\"\n",
    "print(\"Is subsequence:\",is_subsequence(s,t))"
   ]
  },
  {
   "cell_type": "markdown",
   "id": "41976149-49f7-4a00-8046-89291683fa88",
   "metadata": {},
   "source": [
    "### 27) Unique Number of Occurrences"
   ]
  },
  {
   "cell_type": "code",
   "execution_count": 62,
   "id": "1aca1f52-f5f5-47bc-87e8-224a75dc113e",
   "metadata": {},
   "outputs": [
    {
     "name": "stdout",
     "output_type": "stream",
     "text": [
      "Unique occurrences: True\n"
     ]
    }
   ],
   "source": [
    "def unique_occurrences(arr):\n",
    "    count={}\n",
    "    for num in arr:\n",
    "        if num in count:\n",
    "            count[num]+=1\n",
    "        else:\n",
    "            count[num]=1\n",
    "    return len(count.values())==len(set(count.values()))\n",
    "arr=[1,2,2,1,1,3]\n",
    "print(\"Unique occurrences:\",unique_occurrences(arr))"
   ]
  },
  {
   "cell_type": "markdown",
   "id": "22bbb2d2-5783-4937-a36b-ccd7d680ac12",
   "metadata": {},
   "source": [
    "### 28) Remove Element"
   ]
  },
  {
   "cell_type": "code",
   "execution_count": 63,
   "id": "4cd2215d-53fc-453d-9b55-7fd2627b1ef6",
   "metadata": {},
   "outputs": [
    {
     "name": "stdout",
     "output_type": "stream",
     "text": [
      "New length after removal: 2\n"
     ]
    }
   ],
   "source": [
    "def remove_element(nums,val):\n",
    "    k=0\n",
    "    for i in range(len(nums)):\n",
    "        if nums[i]!=val:\n",
    "            nums[k]=nums[i]\n",
    "            k+=1\n",
    "    return k\n",
    "nums=[3,2,2,3]\n",
    "val=3\n",
    "print(\"New length after removal:\",remove_element(nums,val))"
   ]
  },
  {
   "cell_type": "code",
   "execution_count": null,
   "id": "7522c0a4-111d-4574-9aa9-74b53de491f4",
   "metadata": {},
   "outputs": [],
   "source": []
  }
 ],
 "metadata": {
  "kernelspec": {
   "display_name": "Python 3 (ipykernel)",
   "language": "python",
   "name": "python3"
  },
  "language_info": {
   "codemirror_mode": {
    "name": "ipython",
    "version": 3
   },
   "file_extension": ".py",
   "mimetype": "text/x-python",
   "name": "python",
   "nbconvert_exporter": "python",
   "pygments_lexer": "ipython3",
   "version": "3.13.5"
  }
 },
 "nbformat": 4,
 "nbformat_minor": 5
}
